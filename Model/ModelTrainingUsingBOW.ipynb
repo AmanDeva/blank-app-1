{
 "cells": [
  {
   "cell_type": "markdown",
   "metadata": {},
   "source": [
    "## Count Vectorization\n",
    "\n",
    "Count Vectorization is a method used to convert text data into numerical vectors by counting the frequency of each word in a document. Unlike TF-IDF Vectorization, which weighs words based on their importance and frequency, Count Vectorization simply tallies the number of occurrences of each word.\n",
    "\n",
    "### How It Works:\n",
    "\n",
    "1. **Tokenization**: Text is split into individual words or tokens.\n",
    "2. **Counting**: The number of times each unique word appears in the document is counted.\n",
    "3. **Vector Representation**: Each document is represented as a vector, where each element corresponds to the count of a specific word from the vocabulary.\n",
    "\n",
    "### Key Points:\n",
    "\n",
    "- **Bag of Words Approach**: This method treats each document as a \"bag\" of words, ignoring the order in which words appear.\n",
    "- **Loss of Context**: While simple and effective, Count Vectorization loses the sequence and context of words within the text.\n",
    "\n",
    "### Example:\n",
    "\n",
    "If we have a corpus with the following sentences:\n",
    "1. \"The cat sat on the mat.\"\n",
    "2. \"The dog sat on the log.\"\n",
    "\n",
    "The Count Vectorization might produce the following vectors:\n",
    "- Sentence 1: [2, 1, 1, 1, 1, 1] (for 'The', 'cat', 'sat', 'on', 'the', 'mat')\n",
    "- Sentence 2: [2, 1, 1, 1, 1, 1] (for 'The', 'dog', 'sat', 'on', 'the', 'log')\n",
    "\n",
    "In these vectors, each element represents the count of a unique word in the corpus. For instance, the count of the word \"The\" is 2 in both sentences, but other words vary based on their frequency in each sentence.\n",
    "\n",
    "### Considerations:\n",
    "\n",
    "- **High Dimensionality**: The number of features (words) can become very large, leading to high-dimensional vectors.\n",
    "- **Feature Engineering**: Additional techniques like removing stop words or applying n-grams can help in improving the model performance.\n",
    "\n",
    "Count Vectorization is straightforward and often used as a baseline method for text processing in machine learning models. However, it is often complemented with other techniques to capture more nuanced aspects of the text.\n"
   ]
  },
  {
   "cell_type": "code",
   "execution_count": 1,
   "metadata": {},
   "outputs": [],
   "source": [
    "# importing relevant libraries\n",
    "import numpy as np\n",
    "import pandas as pd\n",
    "import matplotlib.pyplot as plt\n",
    "from matplotlib import cm\n",
    "import seaborn as sns\n",
    "%matplotlib inline\n",
    "plt.style.use('bmh')\n",
    "import pickle\n",
    "import sys\n",
    "import os\n",
    "# NLP libraries\n",
    "import nltk\n",
    "from sklearn.feature_extraction import text \n",
    "from nltk.stem import WordNetLemmatizer, PorterStemmer\n",
    "from sklearn.feature_extraction.text import CountVectorizer, TfidfVectorizer, TfidfTransformer\n",
    "from nltk.probability import FreqDist\n",
    "from nltk.corpus import stopwords\n",
    "from gensim.models.doc2vec import Doc2Vec, TaggedDocument\n",
    "\n",
    "# modeling libraries\n",
    "from sklearn.model_selection import train_test_split, cross_val_score, GridSearchCV\n",
    "\n",
    "from collections import Counter\n",
    "from sklearn import metrics, utils, model_selection, svm\n",
    "from sklearn.naive_bayes import MultinomialNB\n",
    "from sklearn.linear_model import LogisticRegression\n",
    "from sklearn.tree import DecisionTreeClassifier\n",
    "from sklearn.ensemble import RandomForestClassifier\n",
    "from sklearn.svm import LinearSVC\n",
    "from sklearn.metrics import precision_score, recall_score, f1_score, confusion_matrix, classification_report"
   ]
  },
  {
   "cell_type": "markdown",
   "metadata": {},
   "source": [
    "**Preprocessing Text Data**\n",
    "The original data from `twitter_data.csv` was cleaned using RegEx in the `data_cleaning.ipynb` notebook.\n",
    "\n",
    "Cleaning Steps:\n",
    "\n",
    "*   Reassigning labels\n",
    "*   Lowercasing tweet text\n",
    "*   Removing hashtags, mentions, quotes and punctuation from tweet text\n",
    "*   Checking for missing values"
   ]
  },
  {
   "cell_type": "code",
   "execution_count": 2,
   "metadata": {},
   "outputs": [],
   "source": [
    "# loading in clean_df\n",
    "clean_df = pd.read_pickle('./pickle/clean_df.pkl')"
   ]
  },
  {
   "cell_type": "code",
   "execution_count": 3,
   "metadata": {},
   "outputs": [
    {
     "data": {
      "text/html": [
       "<div>\n",
       "<style scoped>\n",
       "    .dataframe tbody tr th:only-of-type {\n",
       "        vertical-align: middle;\n",
       "    }\n",
       "\n",
       "    .dataframe tbody tr th {\n",
       "        vertical-align: top;\n",
       "    }\n",
       "\n",
       "    .dataframe thead th {\n",
       "        text-align: right;\n",
       "    }\n",
       "</style>\n",
       "<table border=\"1\" class=\"dataframe\">\n",
       "  <thead>\n",
       "    <tr style=\"text-align: right;\">\n",
       "      <th></th>\n",
       "      <th>total_votes</th>\n",
       "      <th>hate_speech_votes</th>\n",
       "      <th>other_votes</th>\n",
       "      <th>label</th>\n",
       "      <th>tweet</th>\n",
       "      <th>clean_tweet</th>\n",
       "    </tr>\n",
       "  </thead>\n",
       "  <tbody>\n",
       "    <tr>\n",
       "      <th>0</th>\n",
       "      <td>3</td>\n",
       "      <td>0</td>\n",
       "      <td>3</td>\n",
       "      <td>0</td>\n",
       "      <td>!!! RT @mayasolovely: As a woman you shouldn't...</td>\n",
       "      <td>as a woman you shouldnt complain about clea...</td>\n",
       "    </tr>\n",
       "    <tr>\n",
       "      <th>1</th>\n",
       "      <td>3</td>\n",
       "      <td>3</td>\n",
       "      <td>0</td>\n",
       "      <td>1</td>\n",
       "      <td>!!!!! RT @mleew17: boy dats cold...tyga dwn ba...</td>\n",
       "      <td>boy dats coldtyga dwn bad for cuffin dat ho...</td>\n",
       "    </tr>\n",
       "    <tr>\n",
       "      <th>2</th>\n",
       "      <td>3</td>\n",
       "      <td>3</td>\n",
       "      <td>0</td>\n",
       "      <td>1</td>\n",
       "      <td>!!!!!!! RT @UrKindOfBrand Dawg!!!! RT @80sbaby...</td>\n",
       "      <td>dawg   you ever fuck a bitch and she sta to...</td>\n",
       "    </tr>\n",
       "    <tr>\n",
       "      <th>3</th>\n",
       "      <td>3</td>\n",
       "      <td>2</td>\n",
       "      <td>1</td>\n",
       "      <td>1</td>\n",
       "      <td>!!!!!!!!! RT @C_G_Anderson: @viva_based she lo...</td>\n",
       "      <td>she look like a tranny</td>\n",
       "    </tr>\n",
       "    <tr>\n",
       "      <th>4</th>\n",
       "      <td>6</td>\n",
       "      <td>6</td>\n",
       "      <td>0</td>\n",
       "      <td>1</td>\n",
       "      <td>!!!!!!!!!!!!! RT @ShenikaRoberts: The shit you...</td>\n",
       "      <td>the shit you hear about me might be true or...</td>\n",
       "    </tr>\n",
       "  </tbody>\n",
       "</table>\n",
       "</div>"
      ],
      "text/plain": [
       "   total_votes  hate_speech_votes  other_votes  label  \\\n",
       "0            3                  0            3      0   \n",
       "1            3                  3            0      1   \n",
       "2            3                  3            0      1   \n",
       "3            3                  2            1      1   \n",
       "4            6                  6            0      1   \n",
       "\n",
       "                                               tweet  \\\n",
       "0  !!! RT @mayasolovely: As a woman you shouldn't...   \n",
       "1  !!!!! RT @mleew17: boy dats cold...tyga dwn ba...   \n",
       "2  !!!!!!! RT @UrKindOfBrand Dawg!!!! RT @80sbaby...   \n",
       "3  !!!!!!!!! RT @C_G_Anderson: @viva_based she lo...   \n",
       "4  !!!!!!!!!!!!! RT @ShenikaRoberts: The shit you...   \n",
       "\n",
       "                                         clean_tweet  \n",
       "0     as a woman you shouldnt complain about clea...  \n",
       "1     boy dats coldtyga dwn bad for cuffin dat ho...  \n",
       "2     dawg   you ever fuck a bitch and she sta to...  \n",
       "3                             she look like a tranny  \n",
       "4     the shit you hear about me might be true or...  "
      ]
     },
     "execution_count": 3,
     "metadata": {},
     "output_type": "execute_result"
    }
   ],
   "source": [
    "# previewing data\n",
    "clean_df.head()"
   ]
  },
  {
   "cell_type": "markdown",
   "metadata": {},
   "source": [
    "From here, we'll be focusing on the clean_tweet column and the target variable, label."
   ]
  },
  {
   "cell_type": "markdown",
   "metadata": {},
   "source": [
    "#   **Tokenizing & Removing Stop Words**\n",
    "When working with text data, one of the first steps is to remove stop words from the corpus. Although text would be gramatically incorrect without these stop words, they provide little value to models and typically hinder performace.\n",
    "\n",
    "We can use NLTK's built-in library of stop words to remove them in a tokenizing function."
   ]
  },
  {
   "cell_type": "code",
   "execution_count": 4,
   "metadata": {},
   "outputs": [],
   "source": [
    "# assigning variables to essential columns\n",
    "data = clean_df['clean_tweet']\n",
    "target = clean_df['label']"
   ]
  },
  {
   "cell_type": "code",
   "execution_count": 5,
   "metadata": {},
   "outputs": [],
   "source": [
    "# setting up stop words\n",
    "# Define your custom list of stop words\n",
    "custom_stop_words = ['s', 'y', 'itself', 'this', 'to', 'after', 'yourselves', 'do', 'further', 'these', 'own', 'ours', 'yours', 'when', 'aren', 'shan', \"mightn't\", 'doesn', 'isn', 'have', 'because', 'hasn', 'him', 'hers', 'such', 'up', 'through', 'we', 'but', \"haven't\", 'am', 'between', \"don't\", 'had', 'just', 'being', 'should', 'which', 'by', 't', 'for', 'then', 'why', 'is', 'here', 'they', 'over', \"didn't\", \"won't\", \"aren't\", \"you've\", \"wouldn't\", \"that'll\", \"weren't\", 'does', 'myself', 'that', 'ma', \"needn't\", 'or', 'its', 'don', 'only', 'into', 'so', 'few', 'now', 'ain', 'our', 'couldn', 'having', 've', 'it', 'been', 'both', 'whom', 'his', 'each', 'was', 'any', 'while', 'a', 'some', 'nor', 'herself', 'under', \"you'd\", 'haven', 'you', 'until', 'before', 'theirs', 'ourselves', 'are', 'be', 'o', 'me', 'he', 'there', 'once', 'at', 'can', 'out', 'weren', 'off', 'm', 'will', 'from', 'her', 'down', 'what', 'mustn', 'wasn', 'on', 'their', \"mustn't\", 'd', 'too', \"wasn't\", 'of', 'mightn', \"you'll\", 'needn', \"shouldn't\", \"you're\", 'where', 'were', 'hadn', 'how', 'your', 'those', 'himself', 'about', 'i', 'below', \"doesn't\", 'has', 'my', 'during', 'same', 'yourself', 'the', 'did', 'more', 'doing', 'above', 're', \"it's\", 'wouldn', 'all', 'most', 'other', 'and', 'against', 'an', \"shan't\", 'she', 'in', 'themselves', 'didn', \"she's\", 'very', \"isn't\", 'with', \"hadn't\", 'shouldn', 'if', 'than', 'them', \"couldn't\", 'as', \"hasn't\", 'll', 'again', 'who', 'no', 'not', 'won', \"should've\"]"
   ]
  },
  {
   "cell_type": "code",
   "execution_count": 6,
   "metadata": {},
   "outputs": [],
   "source": [
    "import nltk\n",
    "from nltk.corpus import stopwords\n",
    "from nltk.tokenize import word_tokenize\n",
    "\n",
    "def process_tweet(text):\n",
    "    \"\"\"Tokenize text and remove stop words.\"\"\"\n",
    "    # Define the custom stop words\n",
    "    custom_stop_words = set([\n",
    "        's', 'y', 'itself', 'this', 'to', 'after', 'yourselves', 'do', 'further', 'these', 'own', 'ours', \n",
    "        'yours', 'when', 'aren', 'shan', \"mightn't\", 'doesn', 'isn', 'have', 'because', 'hasn', 'him', \n",
    "        'hers', 'such', 'up', 'through', 'we', 'but', \"haven't\", 'am', 'between', \"don't\", 'had', 'just', \n",
    "        'being', 'should', 'which', 'by', 't', 'for', 'then', 'why', 'is', 'here', 'they', 'over', \"didn't\", \n",
    "        \"won't\", \"aren't\", \"you've\", \"wouldn't\", \"that'll\", \"weren't\", 'does', 'myself', 'that', 'ma', \n",
    "        \"needn't\", 'or', 'its', 'don', 'only', 'into', 'so', 'few', 'now', 'ain', 'our', 'couldn', \n",
    "        'having', 've', 'it', 'been', 'both', 'whom', 'his', 'each', 'was', 'any', 'while', 'a', 'some', \n",
    "        'nor', 'herself', 'under', \"you'd\", 'haven', 'you', 'until', 'before', 'theirs', 'ourselves', \n",
    "        'are', 'be', 'o', 'me', 'he', 'there', 'once', 'at', 'can', 'out', 'weren', 'off', 'm', 'will', \n",
    "        'from', 'her', 'down', 'what', 'mustn', 'wasn', 'on', 'their', \"mustn't\", 'd', 'too', \"wasn't\", \n",
    "        'of', 'mightn', \"you'll\", 'needn', \"shouldn't\", \"you're\", 'where', 'were', 'hadn', 'how', \n",
    "        'your', 'those', 'himself', 'about', 'i', 'below', \"doesn't\", 'has', 'my', 'during', 'same', \n",
    "        'yourself', 'the', 'did', 'more', 'doing', 'above', 're', \"it's\", 'wouldn', 'all', 'most', \n",
    "        'other', 'and', 'against', 'an', \"shan't\", 'she', 'in', 'themselves', 'didn', \"she's\", 'very', \n",
    "        \"isn't\", 'with', \"hadn't\", 'shouldn', 'if', 'than', 'them', \"couldn't\", 'as', \"hasn't\", 'll', \n",
    "        'again', 'who', 'no', 'not', 'won', \"should've\"\n",
    "    ])\n",
    "    \n",
    "    # Combine custom stop words with NLTK's stop words\n",
    "    stop_words = set(stopwords.words('english')).union(custom_stop_words)\n",
    "    \n",
    "    # Tokenize the text\n",
    "    tokens = word_tokenize(text)\n",
    "    \n",
    "    # Remove stop words\n",
    "    stopwords_removed = [token.lower() for token in tokens if token.lower() not in stop_words]\n",
    "    \n",
    "    return stopwords_removed\n"
   ]
  },
  {
   "cell_type": "code",
   "execution_count": 7,
   "metadata": {},
   "outputs": [],
   "source": [
    "# applying the above function to our `clean_tweets`\n",
    "processed_data = list(map(process_tweet, data))"
   ]
  },
  {
   "cell_type": "code",
   "execution_count": 8,
   "metadata": {},
   "outputs": [
    {
     "data": {
      "text/plain": [
       "20277"
      ]
     },
     "execution_count": 8,
     "metadata": {},
     "output_type": "execute_result"
    }
   ],
   "source": [
    "# getting count of all unique words in the corpus\n",
    "total_vocab = set()\n",
    "for comment in processed_data:\n",
    "    total_vocab.update(comment)\n",
    "len(total_vocab)"
   ]
  },
  {
   "cell_type": "markdown",
   "metadata": {},
   "source": [
    "We can see that the corpus has a vocabulary of 20,277 unique words. This is useful to know because that will be the amount of columns in the sparse matrix after TF-IDF Vectorization. But we'll get to that step later."
   ]
  },
  {
   "cell_type": "markdown",
   "metadata": {},
   "source": [
    "## **Top Words in Corpus**"
   ]
  },
  {
   "cell_type": "code",
   "execution_count": 9,
   "metadata": {},
   "outputs": [
    {
     "data": {
      "text/plain": [
       "[('bitch', 8227),\n",
       " ('bitches', 3083),\n",
       " ('like', 2766),\n",
       " ('hoes', 2368),\n",
       " ('pussy', 2099),\n",
       " ('im', 2061),\n",
       " ('hoe', 1906),\n",
       " ('dont', 1749),\n",
       " ('got', 1597),\n",
       " ('ass', 1570),\n",
       " ('get', 1428),\n",
       " ('fuck', 1411),\n",
       " ('u', 1280),\n",
       " ('shit', 1262),\n",
       " ('nigga', 1198),\n",
       " ('aint', 1158),\n",
       " ('trash', 1142),\n",
       " ('lol', 1074),\n",
       " ('know', 806),\n",
       " ('niggas', 791)]"
      ]
     },
     "execution_count": 9,
     "metadata": {},
     "output_type": "execute_result"
    }
   ],
   "source": [
    "# transforming `processed_data` into a readable list\n",
    "flat_filtered = [item for sublist in processed_data for item in sublist]\n",
    "# getting frequency distribution\n",
    "clean_corpus_freqdist = FreqDist(flat_filtered)\n",
    "# top 20 words in cleaned corpus\n",
    "clean_corpus_freqdist.most_common(20)"
   ]
  },
  {
   "cell_type": "markdown",
   "metadata": {},
   "source": [
    "These top words are mostly offensive terms, and some other slang words that the NLTK stop words removal function didn't pick up.\n",
    "\n",
    "For a breakdown of the top words in each label, refer to EDA.ipynb "
   ]
  },
  {
   "cell_type": "markdown",
   "metadata": {},
   "source": [
    "## Lemmatization\n",
    "This last method reduces each word into a linguistically valid lemma, or root word. It does this through linguistic mappings, using the WordNet lexical database."
   ]
  },
  {
   "cell_type": "code",
   "execution_count": 10,
   "metadata": {},
   "outputs": [],
   "source": [
    "# creating a list with all lemmatized outputs\n",
    "lemmatizer = WordNetLemmatizer() \n",
    "lemmatized_output = []\n",
    "\n",
    "for listy in processed_data:\n",
    "    lemmed = ' '.join([lemmatizer.lemmatize(w) for w in listy])\n",
    "    lemmatized_output.append(lemmed)"
   ]
  },
  {
   "cell_type": "code",
   "execution_count": 11,
   "metadata": {},
   "outputs": [],
   "source": [
    "X_lem = lemmatized_output\n",
    "y_lem = target"
   ]
  },
  {
   "cell_type": "markdown",
   "metadata": {},
   "source": [
    "Now `X_lem` and `y_lem` are contain cleaned text and the original labels, ready to be used for modeling."
   ]
  },
  {
   "cell_type": "markdown",
   "metadata": {},
   "source": [
    "## **Feature Engineering**\n",
    "With Natural Language Processing, the purpose of feature engineering is to transform the tokenized text data into numerical vectors that the machine learning algorithm can \"understand.\"\n",
    "\n",
    "In this notebook, we'll be iterating through three different feature engineering techniques: **Count Vectorization**, **TF-IDF** Vectorization and **Doc2Vec**. Trying out these techniques could yield vastly different metrics on the same four baseline models.\n",
    "\n",
    "## **Train-Test Split**\n",
    "First, let's perform a train-test split of the dataset, where 20% is reserved as unseen testing data."
   ]
  },
  {
   "cell_type": "code",
   "execution_count": 51,
   "metadata": {},
   "outputs": [],
   "source": [
    "# initial TTS\n",
    "X_train, X_test, y_train, y_test = train_test_split(X_lem, y_lem, test_size=0.20, random_state=15)"
   ]
  },
  {
   "cell_type": "markdown",
   "metadata": {},
   "source": [
    "## TF-IDF Vectorization\n",
    "First, we’ll be trying one of the most popular methods, TF-IDF Vectorization.\n",
    "\n",
    "This is an acronym that stands for “Term Frequency — Inverse Document” Frequency which are the components of the resulting scores assigned to each word.\n",
    "\n",
    "*   **Term Frequency**: This summarizes how often a given word appears within a document.\n",
    "*   **Inverse Document Frequency**: This down scales words that appear a lot across documents.\n",
    "\n",
    "\n",
    "Without going into the math, TF-IDF are word frequency scores that try to highlight words that are more interesting, e.g. frequent in a document but not across other documents."
   ]
  },
  {
   "cell_type": "code",
   "execution_count": 52,
   "metadata": {},
   "outputs": [],
   "source": [
    "# instantiating tf_idf vectorizer\n",
    "tfidf = TfidfVectorizer(stop_words= custom_stop_words, ngram_range=(1,2))"
   ]
  },
  {
   "cell_type": "code",
   "execution_count": 53,
   "metadata": {},
   "outputs": [],
   "source": [
    "# transforming tokenized data into sparse matrix format with 20K stored elements\n",
    "X_train_tfidf = tfidf.fit_transform(X_train)\n",
    "X_test_tfidf = tfidf.transform(X_test)"
   ]
  },
  {
   "cell_type": "code",
   "execution_count": 54,
   "metadata": {},
   "outputs": [
    {
     "name": "stdout",
     "output_type": "stream",
     "text": [
      "Average Number of Non-Zero Elements in Vectorized Articles: 13.364420457984465\n",
      "Percentage of columns containing ZERO: 0.9998720483637183\n"
     ]
    }
   ],
   "source": [
    "# taking a quick look at the non zero elements\n",
    "non_zero_cols = X_train_tfidf.nnz / float(X_train_tfidf.shape[0])\n",
    "print(\"Average Number of Non-Zero Elements in Vectorized Articles: {}\".format(non_zero_cols))\n",
    "percent_sparse = 1 - (non_zero_cols / float(X_train_tfidf.shape[1]))\n",
    "print('Percentage of columns containing ZERO: {}'.format(percent_sparse))"
   ]
  },
  {
   "cell_type": "markdown",
   "metadata": {},
   "source": [
    "Here, we can see that 99.9% of the columns contain a zero, meaning that's a very sparse matrix with 20K columns. We know the amount of columns because it's the size of the total corpus vocabulary. Additionally, it seems that the average length of the individual tweets is 13 words."
   ]
  },
  {
   "cell_type": "markdown",
   "metadata": {},
   "source": [
    "# Count Vectorization\n",
    "\n"
   ]
  },
  {
   "cell_type": "code",
   "execution_count": 12,
   "metadata": {},
   "outputs": [],
   "source": [
    "# fresh TTS\n",
    "X_train, X_test, y_train, y_test = train_test_split(X_lem, y_lem, test_size=0.20, random_state=20)"
   ]
  },
  {
   "cell_type": "code",
   "execution_count": 13,
   "metadata": {},
   "outputs": [],
   "source": [
    "# instantiating count vectorizer\n",
    "count = CountVectorizer(stop_words=custom_stop_words)"
   ]
  },
  {
   "cell_type": "code",
   "execution_count": 14,
   "metadata": {},
   "outputs": [],
   "source": [
    "# fitting to the train and test set\n",
    "X_train_count = count.fit_transform(X_train)\n",
    "X_test_count = count.transform(X_test)"
   ]
  },
  {
   "cell_type": "code",
   "execution_count": 78,
   "metadata": {},
   "outputs": [],
   "source": [
    "## pickling X_train for future use\n",
    "pickle_out = open(\"pickle/X_train_2.pkl\",\"wb\")\n",
    "pickle.dump(X_train, pickle_out)\n",
    "pickle_out.close()"
   ]
  },
  {
   "cell_type": "markdown",
   "metadata": {},
   "source": [
    "## **Linear SVM with Count Vectorization**"
   ]
  },
  {
   "cell_type": "code",
   "execution_count": 15,
   "metadata": {},
   "outputs": [],
   "source": [
    "count_SVM = svm.SVC(C=1.0, kernel='linear', degree=3, gamma='auto', class_weight='balanced')"
   ]
  },
  {
   "cell_type": "code",
   "execution_count": 16,
   "metadata": {},
   "outputs": [
    {
     "name": "stdout",
     "output_type": "stream",
     "text": [
      "CPU times: total: 9.41 s\n",
      "Wall time: 19.9 s\n"
     ]
    }
   ],
   "source": [
    "%%time \n",
    "# fit the training dataset on the classifier\n",
    "count_SVM.fit(X_train_count, y_train)\n",
    "# predict the labels on validation dataset\n",
    "count_SVM_test_preds = count_SVM.predict(X_test_count)"
   ]
  },
  {
   "cell_type": "code",
   "execution_count": 17,
   "metadata": {},
   "outputs": [],
   "source": [
    "# function to print all evaluation metrics\n",
    "def evaluation(precision, recall, f1_score, f1_weighted):\n",
    "    \"\"\"prints out evaluation metrics for a model\"\"\"\n",
    "    print('Testing Set Evaluation Metrics:')\n",
    "    print('Precision: {:.4}'.format(precision))\n",
    "    print('Recall: {:.4}'.format(recall))\n",
    "    print('F1 Score: {:.4}'.format(f1_score))\n",
    "    print('Weighted F1 Score: {:.4}'.format(f1_weighted))"
   ]
  },
  {
   "cell_type": "code",
   "execution_count": 18,
   "metadata": {},
   "outputs": [
    {
     "name": "stdout",
     "output_type": "stream",
     "text": [
      "Testing Set Evaluation Metrics:\n",
      "Precision: 0.9751\n",
      "Recall: 0.9487\n",
      "F1 Score: 0.9617\n",
      "Weighted F1 Score: 0.9386\n"
     ]
    }
   ],
   "source": [
    "count_SVM_precision = precision_score(y_test, count_SVM_test_preds)\n",
    "count_SVM_recall = recall_score(y_test, count_SVM_test_preds)\n",
    "count_SVM_f1_score = f1_score(y_test, count_SVM_test_preds)\n",
    "count_SVM_f1_weighted = f1_score(y_test, count_SVM_test_preds, average='weighted')\n",
    "\n",
    "# printing scores\n",
    "evaluation(count_SVM_precision, count_SVM_recall, count_SVM_f1_score, count_SVM_f1_weighted)"
   ]
  },
  {
   "cell_type": "code",
   "execution_count": null,
   "metadata": {},
   "outputs": [],
   "source": [
    "\n"
   ]
  },
  {
   "cell_type": "markdown",
   "metadata": {},
   "source": [
    "Unfortunately this model did not achieve a higher F1 than the TF-IDF version of the SVM model."
   ]
  },
  {
   "cell_type": "code",
   "execution_count": 66,
   "metadata": {},
   "outputs": [],
   "source": [
    "# creating dictionary with all metrics\n",
    "metric_dict = {}\n",
    "metric_dict['SVM - CountVectorizer'] = {'precision': count_SVM_precision, 'recall': count_SVM_recall, 'f1_score': count_SVM_f1_score, 'weighted_f1': count_SVM_f1_weighted, 'fit': count_SVM.fit(X_train_count, y_train)}"
   ]
  },
  {
   "cell_type": "markdown",
   "metadata": {},
   "source": [
    "## **Logistic Regression with Count Vectorization**"
   ]
  },
  {
   "cell_type": "code",
   "execution_count": 67,
   "metadata": {},
   "outputs": [],
   "source": [
    "# instantiate model\n",
    "count_log_reg_baseline = LogisticRegression(penalty='l2', class_weight='balanced', random_state=20)"
   ]
  },
  {
   "cell_type": "code",
   "execution_count": 68,
   "metadata": {},
   "outputs": [
    {
     "name": "stdout",
     "output_type": "stream",
     "text": [
      "CPU times: total: 391 ms\n",
      "Wall time: 403 ms\n"
     ]
    }
   ],
   "source": [
    "%%time\n",
    "count_log_reg_baseline.fit(X_train_count, y_train)\n",
    "count_log_reg_test_preds = count_log_reg_baseline.predict(X_test_count)"
   ]
  },
  {
   "cell_type": "code",
   "execution_count": 69,
   "metadata": {},
   "outputs": [],
   "source": [
    "count_log_reg_precision = precision_score(y_test, count_log_reg_test_preds)\n",
    "count_log_reg_recall = recall_score(y_test, count_log_reg_test_preds)\n",
    "count_log_reg_f1_score = f1_score(y_test, count_log_reg_test_preds)\n",
    "count_log_reg_f1_weighted = f1_score(y_test, count_log_reg_test_preds, average='weighted')\n"
   ]
  },
  {
   "cell_type": "code",
   "execution_count": 71,
   "metadata": {},
   "outputs": [
    {
     "name": "stdout",
     "output_type": "stream",
     "text": [
      "Testing Set Evaluation Metrics:\n",
      "Precision: 0.9882\n",
      "Recall: 0.9363\n",
      "F1 Score: 0.9616\n",
      "Weighted F1 Score: 0.9404\n"
     ]
    }
   ],
   "source": [
    "# printing scores\n",
    "evaluation(count_log_reg_precision, count_log_reg_recall, count_log_reg_f1_score, count_log_reg_f1_weighted)"
   ]
  },
  {
   "cell_type": "markdown",
   "metadata": {},
   "source": [
    "Using Count Vectorization on the Logistic Regression baseline actually produced the highest F1"
   ]
  },
  {
   "cell_type": "code",
   "execution_count": 74,
   "metadata": {},
   "outputs": [],
   "source": [
    "metric_dict['Log Reg - CountVectorizer'] = {'precision': count_log_reg_precision, 'recall': count_log_reg_recall, 'f1_score': count_log_reg_f1_score, 'weighted_f1': count_log_reg_f1_weighted, 'fit': count_log_reg_baseline.fit(X_train_count, y_train)}"
   ]
  },
  {
   "cell_type": "code",
   "execution_count": 75,
   "metadata": {},
   "outputs": [
    {
     "data": {
      "text/html": [
       "<div>\n",
       "<style scoped>\n",
       "    .dataframe tbody tr th:only-of-type {\n",
       "        vertical-align: middle;\n",
       "    }\n",
       "\n",
       "    .dataframe tbody tr th {\n",
       "        vertical-align: top;\n",
       "    }\n",
       "\n",
       "    .dataframe thead th {\n",
       "        text-align: right;\n",
       "    }\n",
       "</style>\n",
       "<table border=\"1\" class=\"dataframe\">\n",
       "  <thead>\n",
       "    <tr style=\"text-align: right;\">\n",
       "      <th></th>\n",
       "      <th>precision</th>\n",
       "      <th>recall</th>\n",
       "      <th>f1_score</th>\n",
       "      <th>weighted_f1</th>\n",
       "      <th>fit</th>\n",
       "    </tr>\n",
       "  </thead>\n",
       "  <tbody>\n",
       "    <tr>\n",
       "      <th>SVM - CountVectorizer</th>\n",
       "      <td>0.975106</td>\n",
       "      <td>0.948656</td>\n",
       "      <td>0.961699</td>\n",
       "      <td>0.938620</td>\n",
       "      <td>SVC(class_weight='balanced', gamma='auto', ker...</td>\n",
       "    </tr>\n",
       "    <tr>\n",
       "      <th>Baseline Log Reg - CountVectorizer</th>\n",
       "      <td>0.988241</td>\n",
       "      <td>0.936304</td>\n",
       "      <td>0.961572</td>\n",
       "      <td>0.940434</td>\n",
       "      <td>LogisticRegression(class_weight='balanced', ra...</td>\n",
       "    </tr>\n",
       "    <tr>\n",
       "      <th>Log Reg - CountVectorizer</th>\n",
       "      <td>0.988241</td>\n",
       "      <td>0.936304</td>\n",
       "      <td>0.961572</td>\n",
       "      <td>0.940434</td>\n",
       "      <td>LogisticRegression(class_weight='balanced', ra...</td>\n",
       "    </tr>\n",
       "  </tbody>\n",
       "</table>\n",
       "</div>"
      ],
      "text/plain": [
       "                                    precision    recall  f1_score  \\\n",
       "SVM - CountVectorizer                0.975106  0.948656  0.961699   \n",
       "Baseline Log Reg - CountVectorizer   0.988241  0.936304  0.961572   \n",
       "Log Reg - CountVectorizer            0.988241  0.936304  0.961572   \n",
       "\n",
       "                                    weighted_f1  \\\n",
       "SVM - CountVectorizer                  0.938620   \n",
       "Baseline Log Reg - CountVectorizer     0.940434   \n",
       "Log Reg - CountVectorizer              0.940434   \n",
       "\n",
       "                                                                                  fit  \n",
       "SVM - CountVectorizer               SVC(class_weight='balanced', gamma='auto', ker...  \n",
       "Baseline Log Reg - CountVectorizer  LogisticRegression(class_weight='balanced', ra...  \n",
       "Log Reg - CountVectorizer           LogisticRegression(class_weight='balanced', ra...  "
      ]
     },
     "execution_count": 75,
     "metadata": {},
     "output_type": "execute_result"
    }
   ],
   "source": [
    "# printing dict for testing set metrics\n",
    "pd.DataFrame.from_dict(metric_dict, orient='index')"
   ]
  },
  {
   "cell_type": "markdown",
   "metadata": {},
   "source": [
    "# **Final Model Analysis:**\n",
    "Logisitic Regression with CountVectorizer\n",
    "The best performing model is a Logistic Regression model using CountVectorizer for feature engineering. The hyperparameters were penality=l2 and class_weight='balanced'.\n",
    "\n",
    "# **Pickling Final Model**\n",
    "This final model will be pickled for future use. For instance, the interactive webapp.\n",
    "\n"
   ]
  },
  {
   "cell_type": "code",
   "execution_count": 76,
   "metadata": {},
   "outputs": [],
   "source": [
    "pickle_out = open(\"./pickle/final_log_reg_count_model.pkl\",\"wb\")\n",
    "pickle.dump(count_log_reg_baseline, pickle_out)\n",
    "pickle_out.close()"
   ]
  },
  {
   "cell_type": "code",
   "execution_count": 19,
   "metadata": {},
   "outputs": [],
   "source": [
    "pickle_out = open(\"./pickle/final_svm_count_model.pkl\",\"wb\")\n",
    "pickle.dump(count_SVM, pickle_out)\n",
    "pickle_out.close()"
   ]
  },
  {
   "cell_type": "code",
   "execution_count": 27,
   "metadata": {},
   "outputs": [
    {
     "data": {
      "image/png": "[encoded data removed]",
      "text/plain": [
       "<Figure size 800x600 with 2 Axes>"
      ]
     },
     "metadata": {},
     "output_type": "display_data"
    },
    {
     "name": "stdout",
     "output_type": "stream",
     "text": [
      "Normalized confusion matrix image saved as 'SVM_confusion_matrix_normalized.png'\n"
     ]
    }
   ],
   "source": [
    "import numpy as np\n",
    "import matplotlib.pyplot as plt\n",
    "\n",
    "# Function to calculate confusion matrix manually\n",
    "def calculate_confusion_matrix(y_true, y_pred):\n",
    "    unique_labels = np.unique(np.concatenate((y_true, y_pred)))\n",
    "    matrix = np.zeros((len(unique_labels), len(unique_labels)), dtype=int)\n",
    "\n",
    "    for i, true_label in enumerate(unique_labels):\n",
    "        for j, predicted_label in enumerate(unique_labels):\n",
    "            matrix[i, j] = np.sum((y_true == true_label) & (y_pred == predicted_label))\n",
    "    \n",
    "    return matrix, unique_labels\n",
    "\n",
    "# Generate confusion matrix manually\n",
    "conf_matrix, labels = calculate_confusion_matrix(y_test, count_SVM_test_preds)\n",
    "\n",
    "# Normalize confusion matrix\n",
    "row_sums = conf_matrix.sum(axis=1, keepdims=True)\n",
    "normalized_conf_matrix = conf_matrix / row_sums\n",
    "\n",
    "# Plot normalized confusion matrix\n",
    "plt.figure(figsize=(8, 6))\n",
    "plt.imshow(normalized_conf_matrix, interpolation='nearest', cmap=plt.cm.Blues)\n",
    "plt.title('Normalized Confusion Matrix  of SVM')\n",
    "plt.colorbar()\n",
    "\n",
    "tick_marks = np.arange(len(labels))\n",
    "plt.xticks(tick_marks, labels, rotation=45)\n",
    "plt.yticks(tick_marks, labels)\n",
    "\n",
    "# Label each cell with the proportion\n",
    "thresh = normalized_conf_matrix.max() / 2.\n",
    "for i, j in np.ndindex(normalized_conf_matrix.shape):\n",
    "    plt.text(j, i, format(normalized_conf_matrix[i, j], '.2f'),\n",
    "             horizontalalignment=\"center\",\n",
    "             color=\"white\" if normalized_conf_matrix[i, j] > thresh else \"black\")\n",
    "\n",
    "plt.ylabel('True label')\n",
    "plt.xlabel('Predicted label')\n",
    "plt.tight_layout()\n",
    "\n",
    "# Save normalized confusion matrix as an image\n",
    "plt.savefig('plots/SVM_confusion_matrix_normalized.png')\n",
    "\n",
    "# Show plot\n",
    "plt.show()\n",
    "\n",
    "print(\"Normalized confusion matrix image saved as 'SVM_confusion_matrix_normalized.png'\")\n"
   ]
  },
  {
   "cell_type": "code",
   "execution_count": null,
   "metadata": {},
   "outputs": [],
   "source": [
    "import numpy as np\n",
    "import matplotlib.pyplot as plt\n",
    "\n",
    "# Function to calculate confusion matrix manually\n",
    "def calculate_confusion_matrix(y_true, y_pred):\n",
    "    unique_labels = np.unique(np.concatenate((y_true, y_pred)))\n",
    "    matrix = np.zeros((len(unique_labels), len(unique_labels)), dtype=int)\n",
    "\n",
    "    for i, true_label in enumerate(unique_labels):\n",
    "        for j, predicted_label in enumerate(unique_labels):\n",
    "            matrix[i, j] = np.sum((y_true == true_label) & (y_pred == predicted_label))\n",
    "    \n",
    "    return matrix, unique_labels\n",
    "\n",
    "# Generate confusion matrix manually\n",
    "conf_matrix, labels = calculate_confusion_matrix(y_test, count_log_reg_test_preds)\n",
    "\n",
    "# Normalize confusion matrix\n",
    "row_sums = conf_matrix.sum(axis=1, keepdims=True)\n",
    "normalized_conf_matrix = conf_matrix / row_sums\n",
    "\n",
    "# Plot normalized confusion matrix\n",
    "plt.figure(figsize=(8, 6))\n",
    "plt.imshow(normalized_conf_matrix, interpolation='nearest', cmap=plt.cm.Blues)\n",
    "plt.title('Normalized Confusion Matrix  of Logistic Regression')\n",
    "plt.colorbar()\n",
    "\n",
    "tick_marks = np.arange(len(labels))\n",
    "plt.xticks(tick_marks, labels, rotation=45)\n",
    "plt.yticks(tick_marks, labels)\n",
    "\n",
    "# Label each cell with the proportion\n",
    "thresh = normalized_conf_matrix.max() / 2.\n",
    "for i, j in np.ndindex(normalized_conf_matrix.shape):\n",
    "    plt.text(j, i, format(normalized_conf_matrix[i, j], '.2f'),\n",
    "             horizontalalignment=\"center\",\n",
    "             color=\"white\" if normalized_conf_matrix[i, j] > thresh else \"black\")\n",
    "\n",
    "plt.ylabel('True label')\n",
    "plt.xlabel('Predicted label')\n",
    "plt.tight_layout()\n",
    "\n",
    "# Save normalized confusion matrix as an image\n",
    "plt.savefig('plots/Log_reg_confusion_matrix_normalized.png')\n",
    "\n",
    "# Show plot\n",
    "plt.show()\n",
    "\n",
    "print(\"Normalized confusion matrix image saved as 'Log_reg_confusion_matrix_normalized.png'\")\n"
   ]
  }
 ],
 "metadata": {
  "kernelspec": {
   "display_name": "base",
   "language": "python",
   "name": "python3"
  },
  "language_info": {
   "codemirror_mode": {
    "name": "ipython",
    "version": 3
   },
   "file_extension": ".py",
   "mimetype": "text/x-python",
   "name": "python",
   "nbconvert_exporter": "python",
   "pygments_lexer": "ipython3",
   "version": "3.11.9"
  }
 },
 "nbformat": 4,
 "nbformat_minor": 2
}
